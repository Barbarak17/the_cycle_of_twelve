{
 "cells": [
  {
   "cell_type": "markdown",
   "metadata": {},
   "source": [
    "### Barbara Karakyriakou\n",
    "###  MCB112\n",
    "### homework 7:\n",
    "### the cycle of twelve"
   ]
  },
  {
   "cell_type": "markdown",
   "metadata": {},
   "source": [
    "In this assignment, we will be fitting time-course gene expression data using \"harmonic regression\", a slightly modified form of linear regression."
   ]
  },
  {
   "cell_type": "markdown",
   "metadata": {},
   "source": [
    "#### the available data"
   ]
  },
  {
   "cell_type": "code",
   "execution_count": 115,
   "metadata": {},
   "outputs": [
    {
     "ename": "ImportError",
     "evalue": "cannot import name 'spline' from 'scipy.interpolate' (/Applications/anaconda3/lib/python3.7/site-packages/scipy/interpolate/__init__.py)",
     "output_type": "error",
     "traceback": [
      "\u001b[0;31m---------------------------------------------------------------------------\u001b[0m",
      "\u001b[0;31mImportError\u001b[0m                               Traceback (most recent call last)",
      "\u001b[0;32m<ipython-input-115-ba6de244f1a0>\u001b[0m in \u001b[0;36m<module>\u001b[0;34m\u001b[0m\n\u001b[1;32m      6\u001b[0m \u001b[0;32mimport\u001b[0m \u001b[0mscipy\u001b[0m\u001b[0;34m.\u001b[0m\u001b[0moptimize\u001b[0m \u001b[0;32mas\u001b[0m \u001b[0moptimize\u001b[0m\u001b[0;34m\u001b[0m\u001b[0;34m\u001b[0m\u001b[0m\n\u001b[1;32m      7\u001b[0m \u001b[0;32mfrom\u001b[0m \u001b[0mscipy\u001b[0m \u001b[0;32mimport\u001b[0m \u001b[0mstats\u001b[0m\u001b[0;34m\u001b[0m\u001b[0;34m\u001b[0m\u001b[0m\n\u001b[0;32m----> 8\u001b[0;31m \u001b[0;32mfrom\u001b[0m \u001b[0mscipy\u001b[0m\u001b[0;34m.\u001b[0m\u001b[0minterpolate\u001b[0m \u001b[0;32mimport\u001b[0m \u001b[0mspline\u001b[0m\u001b[0;34m\u001b[0m\u001b[0;34m\u001b[0m\u001b[0m\n\u001b[0m",
      "\u001b[0;31mImportError\u001b[0m: cannot import name 'spline' from 'scipy.interpolate' (/Applications/anaconda3/lib/python3.7/site-packages/scipy/interpolate/__init__.py)"
     ]
    }
   ],
   "source": [
    "import pandas as pd\n",
    "import numpy as np\n",
    "import math\n",
    "import matplotlib.pyplot as plt\n",
    "import matplotlib.patches as mpatches\n",
    "import scipy.optimize as optimize\n",
    "from scipy import stats\n",
    "from scipy.interpolate import spline"
   ]
  },
  {
   "cell_type": "code",
   "execution_count": 92,
   "metadata": {},
   "outputs": [
    {
     "data": {
      "text/html": [
       "<div>\n",
       "<style scoped>\n",
       "    .dataframe tbody tr th:only-of-type {\n",
       "        vertical-align: middle;\n",
       "    }\n",
       "\n",
       "    .dataframe tbody tr th {\n",
       "        vertical-align: top;\n",
       "    }\n",
       "\n",
       "    .dataframe thead th {\n",
       "        text-align: right;\n",
       "    }\n",
       "</style>\n",
       "<table border=\"1\" class=\"dataframe\">\n",
       "  <thead>\n",
       "    <tr style=\"text-align: right;\">\n",
       "      <th></th>\n",
       "      <th>4hr</th>\n",
       "      <th>4hr</th>\n",
       "      <th>8hr</th>\n",
       "      <th>8hr</th>\n",
       "      <th>16hr</th>\n",
       "      <th>16hr</th>\n",
       "      <th>24hr</th>\n",
       "      <th>24hr</th>\n",
       "    </tr>\n",
       "    <tr>\n",
       "      <th>gene</th>\n",
       "      <th></th>\n",
       "      <th></th>\n",
       "      <th></th>\n",
       "      <th></th>\n",
       "      <th></th>\n",
       "      <th></th>\n",
       "      <th></th>\n",
       "      <th></th>\n",
       "    </tr>\n",
       "  </thead>\n",
       "  <tbody>\n",
       "    <tr>\n",
       "      <td>sigma</td>\n",
       "      <td>20.00</td>\n",
       "      <td>2.00</td>\n",
       "      <td>20.00</td>\n",
       "      <td>5.00</td>\n",
       "      <td>5.00</td>\n",
       "      <td>20.00</td>\n",
       "      <td>2.00</td>\n",
       "      <td>20.00</td>\n",
       "    </tr>\n",
       "    <tr>\n",
       "      <td>anise</td>\n",
       "      <td>109.77</td>\n",
       "      <td>72.66</td>\n",
       "      <td>20.56</td>\n",
       "      <td>56.19</td>\n",
       "      <td>25.28</td>\n",
       "      <td>0.00</td>\n",
       "      <td>60.12</td>\n",
       "      <td>50.41</td>\n",
       "    </tr>\n",
       "    <tr>\n",
       "      <td>kiwi</td>\n",
       "      <td>12.73</td>\n",
       "      <td>18.81</td>\n",
       "      <td>54.50</td>\n",
       "      <td>45.41</td>\n",
       "      <td>68.87</td>\n",
       "      <td>52.19</td>\n",
       "      <td>20.02</td>\n",
       "      <td>33.38</td>\n",
       "    </tr>\n",
       "    <tr>\n",
       "      <td>carrot</td>\n",
       "      <td>62.25</td>\n",
       "      <td>60.75</td>\n",
       "      <td>52.48</td>\n",
       "      <td>36.12</td>\n",
       "      <td>20.47</td>\n",
       "      <td>27.77</td>\n",
       "      <td>59.04</td>\n",
       "      <td>40.98</td>\n",
       "    </tr>\n",
       "    <tr>\n",
       "      <td>grape</td>\n",
       "      <td>15.64</td>\n",
       "      <td>22.59</td>\n",
       "      <td>50.08</td>\n",
       "      <td>35.41</td>\n",
       "      <td>68.81</td>\n",
       "      <td>70.85</td>\n",
       "      <td>35.55</td>\n",
       "      <td>68.25</td>\n",
       "    </tr>\n",
       "    <tr>\n",
       "      <td>tangerine</td>\n",
       "      <td>47.88</td>\n",
       "      <td>31.65</td>\n",
       "      <td>9.36</td>\n",
       "      <td>20.77</td>\n",
       "      <td>54.15</td>\n",
       "      <td>22.44</td>\n",
       "      <td>56.57</td>\n",
       "      <td>71.97</td>\n",
       "    </tr>\n",
       "    <tr>\n",
       "      <td>melon</td>\n",
       "      <td>52.94</td>\n",
       "      <td>56.61</td>\n",
       "      <td>65.61</td>\n",
       "      <td>24.75</td>\n",
       "      <td>28.00</td>\n",
       "      <td>0.00</td>\n",
       "      <td>64.52</td>\n",
       "      <td>49.56</td>\n",
       "    </tr>\n",
       "    <tr>\n",
       "      <td>clementine</td>\n",
       "      <td>2.56</td>\n",
       "      <td>32.65</td>\n",
       "      <td>51.08</td>\n",
       "      <td>55.65</td>\n",
       "      <td>57.87</td>\n",
       "      <td>58.38</td>\n",
       "      <td>11.88</td>\n",
       "      <td>17.46</td>\n",
       "    </tr>\n",
       "    <tr>\n",
       "      <td>spinach</td>\n",
       "      <td>84.98</td>\n",
       "      <td>65.22</td>\n",
       "      <td>52.50</td>\n",
       "      <td>63.15</td>\n",
       "      <td>34.64</td>\n",
       "      <td>32.18</td>\n",
       "      <td>48.84</td>\n",
       "      <td>47.48</td>\n",
       "    </tr>\n",
       "    <tr>\n",
       "      <td>beet</td>\n",
       "      <td>11.93</td>\n",
       "      <td>25.22</td>\n",
       "      <td>20.58</td>\n",
       "      <td>26.43</td>\n",
       "      <td>60.33</td>\n",
       "      <td>69.68</td>\n",
       "      <td>44.47</td>\n",
       "      <td>51.03</td>\n",
       "    </tr>\n",
       "    <tr>\n",
       "      <td>huckleberry</td>\n",
       "      <td>73.92</td>\n",
       "      <td>60.69</td>\n",
       "      <td>62.34</td>\n",
       "      <td>69.59</td>\n",
       "      <td>39.76</td>\n",
       "      <td>17.31</td>\n",
       "      <td>33.45</td>\n",
       "      <td>48.60</td>\n",
       "    </tr>\n",
       "    <tr>\n",
       "      <td>lentil</td>\n",
       "      <td>49.72</td>\n",
       "      <td>44.88</td>\n",
       "      <td>16.71</td>\n",
       "      <td>24.28</td>\n",
       "      <td>39.94</td>\n",
       "      <td>65.69</td>\n",
       "      <td>62.89</td>\n",
       "      <td>40.72</td>\n",
       "    </tr>\n",
       "    <tr>\n",
       "      <td>cauliflower</td>\n",
       "      <td>49.95</td>\n",
       "      <td>39.98</td>\n",
       "      <td>68.16</td>\n",
       "      <td>66.92</td>\n",
       "      <td>40.30</td>\n",
       "      <td>17.36</td>\n",
       "      <td>18.78</td>\n",
       "      <td>41.72</td>\n",
       "    </tr>\n",
       "  </tbody>\n",
       "</table>\n",
       "</div>"
      ],
      "text/plain": [
       "                4hr    4hr    8hr    8hr   16hr   16hr   24hr   24hr\n",
       "gene                                                                \n",
       "sigma         20.00   2.00  20.00   5.00   5.00  20.00   2.00  20.00\n",
       "anise        109.77  72.66  20.56  56.19  25.28   0.00  60.12  50.41\n",
       "kiwi          12.73  18.81  54.50  45.41  68.87  52.19  20.02  33.38\n",
       "carrot        62.25  60.75  52.48  36.12  20.47  27.77  59.04  40.98\n",
       "grape         15.64  22.59  50.08  35.41  68.81  70.85  35.55  68.25\n",
       "tangerine     47.88  31.65   9.36  20.77  54.15  22.44  56.57  71.97\n",
       "melon         52.94  56.61  65.61  24.75  28.00   0.00  64.52  49.56\n",
       "clementine     2.56  32.65  51.08  55.65  57.87  58.38  11.88  17.46\n",
       "spinach       84.98  65.22  52.50  63.15  34.64  32.18  48.84  47.48\n",
       "beet          11.93  25.22  20.58  26.43  60.33  69.68  44.47  51.03\n",
       "huckleberry   73.92  60.69  62.34  69.59  39.76  17.31  33.45  48.60\n",
       "lentil        49.72  44.88  16.71  24.28  39.94  65.69  62.89  40.72\n",
       "cauliflower   49.95  39.98  68.16  66.92  40.30  17.36  18.78  41.72"
      ]
     },
     "execution_count": 92,
     "metadata": {},
     "output_type": "execute_result"
    }
   ],
   "source": [
    "# create a dataframe with the data\n",
    "\n",
    "df = pd.read_table('w07-data.txt', sep='\\s+', escapechar='-')\n",
    "\n",
    "df.columns=['4hr', '4hr', '8hr', '8hr', \n",
    "                           '16hr', '16hr', '24hr', '24hr']\n",
    "df.index.name ='gene'\n",
    "\n",
    "df = df.rename({'gene':'sigma'}, axis='index') # create a row with the sigma values\n",
    "\n",
    "df = df.drop(df.index[[1]])\n",
    "\n",
    "df = df.astype('float') # convert data to floats\n",
    "\n",
    "df"
   ]
  },
  {
   "cell_type": "code",
   "execution_count": 66,
   "metadata": {},
   "outputs": [
    {
     "data": {
      "text/plain": [
       "array(['anise', 'kiwi', 'carrot', 'grape', 'tangerine', 'melon',\n",
       "       'clementine', 'spinach', 'beet', 'huckleberry', 'lentil',\n",
       "       'cauliflower'], dtype=object)"
      ]
     },
     "execution_count": 66,
     "metadata": {},
     "output_type": "execute_result"
    }
   ],
   "source": [
    "# create an array with the gene names\n",
    "\n",
    "gene_name = df.index[1:].values\n",
    "gene_name"
   ]
  },
  {
   "cell_type": "code",
   "execution_count": 67,
   "metadata": {},
   "outputs": [
    {
     "data": {
      "text/plain": [
       "array([20.,  2., 20.,  5.,  5., 20.,  2., 20.])"
      ]
     },
     "execution_count": 67,
     "metadata": {},
     "output_type": "execute_result"
    }
   ],
   "source": [
    "# create an array with the sigma values (standard deviations)\n",
    "\n",
    "sigma = df.iloc[0,:].values\n",
    "sigma"
   ]
  },
  {
   "cell_type": "code",
   "execution_count": 68,
   "metadata": {},
   "outputs": [
    {
     "data": {
      "text/plain": [
       "array([[109.77,  72.66,  20.56,  56.19,  25.28,   0.  ,  60.12,  50.41],\n",
       "       [ 12.73,  18.81,  54.5 ,  45.41,  68.87,  52.19,  20.02,  33.38],\n",
       "       [ 62.25,  60.75,  52.48,  36.12,  20.47,  27.77,  59.04,  40.98],\n",
       "       [ 15.64,  22.59,  50.08,  35.41,  68.81,  70.85,  35.55,  68.25],\n",
       "       [ 47.88,  31.65,   9.36,  20.77,  54.15,  22.44,  56.57,  71.97],\n",
       "       [ 52.94,  56.61,  65.61,  24.75,  28.  ,   0.  ,  64.52,  49.56],\n",
       "       [  2.56,  32.65,  51.08,  55.65,  57.87,  58.38,  11.88,  17.46],\n",
       "       [ 84.98,  65.22,  52.5 ,  63.15,  34.64,  32.18,  48.84,  47.48],\n",
       "       [ 11.93,  25.22,  20.58,  26.43,  60.33,  69.68,  44.47,  51.03],\n",
       "       [ 73.92,  60.69,  62.34,  69.59,  39.76,  17.31,  33.45,  48.6 ],\n",
       "       [ 49.72,  44.88,  16.71,  24.28,  39.94,  65.69,  62.89,  40.72],\n",
       "       [ 49.95,  39.98,  68.16,  66.92,  40.3 ,  17.36,  18.78,  41.72]])"
      ]
     },
     "execution_count": 68,
     "metadata": {},
     "output_type": "execute_result"
    }
   ],
   "source": [
    "# create an array with the TPM values of each gene\n",
    "\n",
    "genes = df.iloc[1:,:].values\n",
    "genes"
   ]
  },
  {
   "cell_type": "markdown",
   "metadata": {},
   "source": [
    "#### 1. solve by maximum likelihood\n",
    "#### solve this one using multidimensional optimization using SciPy's optimize.minimize() function."
   ]
  },
  {
   "cell_type": "code",
   "execution_count": 69,
   "metadata": {},
   "outputs": [],
   "source": [
    "# log likelihood function to be passed to SciPy's optimize.minimize() function\n",
    "# the mu is calculated by linear regression with three parameters (p0,p1,p2)\n",
    "# the math function is yt=p0+p1sin(2πωt)+p2cos(2πωt) \n",
    "# it takes guessed values for the 3 parameters (p), the sigmas (X) $ the observations (y)\n",
    "\n",
    "def nll(p, X, y):\n",
    "    p0  = p[0]\n",
    "    p1  = p[1]\n",
    "    p2  = p[2]\n",
    "    ll = 0.\n",
    "    t = [4., 4., 8., 8., 16., 16., 24., 24.] # an array with t values from each experiment\n",
    "    for i in range(len(X)):\n",
    "        # predict thw parameters for all 8 experiments \n",
    "        ypred = p0 + p1*np.sin(2*math.pi*(t[i])/24) + p2*np.cos(2*math.pi*(t[i])/24)\n",
    "        residual = ypred - y[i] # residual between predictions and observations\n",
    "        ll += stats.norm.logpdf(residual, 0, X[i]) #calculate ll for each sigma\n",
    "    return -ll"
   ]
  },
  {
   "cell_type": "code",
   "execution_count": 70,
   "metadata": {},
   "outputs": [],
   "source": [
    "# a random guess of the three parameters\n",
    "\n",
    "p = [40, 20, 10]"
   ]
  },
  {
   "cell_type": "code",
   "execution_count": 71,
   "metadata": {},
   "outputs": [
    {
     "name": "stdout",
     "output_type": "stream",
     "text": [
      "[array([46.87769817, 21.02187232, 13.83174732]), array([ 44.16259886, -14.61055083, -24.38758775]), array([39.64848292, 12.06774028, 19.74222793]), array([ 46.54210846, -20.73401545, -11.03363517]), array([ 42.66803609, -20.01041238,  13.77692099]), array([40.09997299,  3.60029911, 24.88181172]), array([ 42.99852121,   3.44290317, -30.11151403]), array([49.11359587, 18.11992599,  0.0895696 ]), array([ 43.51770692, -21.31642194,   0.77856717]), array([ 48.02066499,  21.44341704, -13.70061003]), array([42.85340341, -9.39508934, 19.968266  ]), array([ 40.85600596,  13.10273405, -22.4489618 ])]\n"
     ]
    }
   ],
   "source": [
    "# loop over the each gene and calculate the parameters using optimize.minimize()\n",
    "\n",
    "results = [] # store the results\n",
    "\n",
    "for i in range(len(genes)): # loop over each gene\n",
    "    # pass nll func with guessed parameters, sigmas, and observations to the minimizer. \n",
    "    minimize = optimize.minimize(nll, p, (sigma, genes[i]), \n",
    "                                 bounds = [(None,None), (None,None), (None,None)])\n",
    "    result = minimize.x\n",
    "    results.append(result)\n",
    "print(results)"
   ]
  },
  {
   "cell_type": "code",
   "execution_count": 72,
   "metadata": {},
   "outputs": [
    {
     "data": {
      "text/plain": [
       "12"
      ]
     },
     "execution_count": 72,
     "metadata": {},
     "output_type": "execute_result"
    }
   ],
   "source": [
    "# check if we have 12 results\n",
    "\n",
    "len(results)"
   ]
  },
  {
   "cell_type": "code",
   "execution_count": 73,
   "metadata": {},
   "outputs": [
    {
     "data": {
      "text/plain": [
       "(      fun: 26.34463084711362\n",
       "  hess_inv: array([[ 4.31350059, -2.06527299, -3.52570133],\n",
       "        [-2.06527299,  5.42330638,  0.15091203],\n",
       "        [-3.52570133,  0.15091203,  6.31524037]])\n",
       "       jac: array([-6.19888306e-06,  0.00000000e+00,  1.19209290e-06])\n",
       "   message: 'Optimization terminated successfully.'\n",
       "      nfev: 80\n",
       "       nit: 14\n",
       "      njev: 16\n",
       "    status: 0\n",
       "   success: True\n",
       "         x: array([ 42.99848712,   3.44290213, -30.11145816]),\n",
       " array([ 42.99852121,   3.44290317, -30.11151403]))"
      ]
     },
     "execution_count": 73,
     "metadata": {},
     "output_type": "execute_result"
    }
   ],
   "source": [
    "# test for accuracy\n",
    "\n",
    "minimize = optimize.minimize(nll, p, (sigma, genes[6]))\n",
    "minimize, results[6]"
   ]
  },
  {
   "cell_type": "code",
   "execution_count": 74,
   "metadata": {},
   "outputs": [
    {
     "name": "stdout",
     "output_type": "stream",
     "text": [
      "[array([46.87769817, 21.02187232, 13.83174732]), array([ 44.16259886, -14.61055083, -24.38758775]), array([39.64848292, 12.06774028, 19.74222793]), array([ 46.54210846, -20.73401545, -11.03363517]), array([ 42.66803609, -20.01041238,  13.77692099]), array([40.09997299,  3.60029911, 24.88181172]), array([ 42.99852121,   3.44290317, -30.11151403]), array([49.11359587, 18.11992599,  0.0895696 ]), array([ 43.51770692, -21.31642194,   0.77856717]), array([ 48.02066499,  21.44341704, -13.70061003]), array([42.85340341, -9.39508934, 19.968266  ]), array([ 40.85600596,  13.10273405, -22.4489618 ])]\n"
     ]
    }
   ],
   "source": [
    "# test if the results are the same for differend random guessed parameters\n",
    "\n",
    "test_p = [100, 50, 2] \n",
    "\n",
    "test_results = [] # store the test results\n",
    "\n",
    "for i in range(len(genes)): # loop over each gene\n",
    "    # pass nll func with guessed parameters, sigmas, and observations to the minimizer. \n",
    "    minimize = optimize.minimize(nll, p, (sigma, genes[i]), \n",
    "                                 bounds = [(None,None), (None,None), (None,None)])\n",
    "    result = minimize.x\n",
    "    test_results.append(result)\n",
    "print(test_results)"
   ]
  },
  {
   "cell_type": "code",
   "execution_count": 75,
   "metadata": {},
   "outputs": [
    {
     "data": {
      "text/plain": [
       "(array([40.09997299,  3.60029911, 24.88181172]),\n",
       " array([40.09997299,  3.60029911, 24.88181172]))"
      ]
     },
     "execution_count": 75,
     "metadata": {},
     "output_type": "execute_result"
    }
   ],
   "source": [
    "results[5], test_results[5]"
   ]
  },
  {
   "cell_type": "markdown",
   "metadata": {},
   "source": [
    "##### The results are the same regardless of the random guesses."
   ]
  },
  {
   "cell_type": "code",
   "execution_count": 76,
   "metadata": {},
   "outputs": [
    {
     "name": "stdout",
     "output_type": "stream",
     "text": [
      "[(46.88, 25.16, 2.22), (44.16, 28.43, 15.94), (39.65, 23.14, 3.9), (46.54, 23.49, 13.87), (42.67, 24.29, 9.7), (40.1, 25.14, 5.45), (43.0, 30.31, 18.43), (49.11, 18.12, 0.02), (43.52, 21.33, 11.86), (48.02, 25.45, 21.83), (42.85, 22.07, 7.68), (40.86, 25.99, 20.02)]\n"
     ]
    }
   ],
   "source": [
    "# calculate amplitude(a), baseline mean expression (b), and phase(ph)\n",
    "\n",
    "gene_lst = [] # store a, b, ph\n",
    "\n",
    "for i in range(len(results)): # loop over the minimizer results\n",
    "    b = results[i][0] # the predicted p0 is equal to b\n",
    "    ph = np.arctan(results[i][2] / results[i][1]) # calaculate ph (arctan p2/p1)\n",
    "    a  = results[i][1] / np.cos(ph) # calculate a \n",
    "\n",
    "    ph = 24 * ph / (2 * math.pi) # need to convert in hours (using moriarty's script)     \n",
    "    if a < 0:\n",
    "        a  = -a\n",
    "        ph += 12\n",
    "    while ph < 0:  ph += 24\n",
    "    while ph > 24: ph -= 24\n",
    "    data = (round(b,2), round(a,2), round(ph,2))\n",
    "    gene_lst.append(data)\n",
    "print (gene_lst)\n",
    "       "
   ]
  },
  {
   "cell_type": "code",
   "execution_count": 77,
   "metadata": {},
   "outputs": [
    {
     "data": {
      "text/html": [
       "<div>\n",
       "<style scoped>\n",
       "    .dataframe tbody tr th:only-of-type {\n",
       "        vertical-align: middle;\n",
       "    }\n",
       "\n",
       "    .dataframe tbody tr th {\n",
       "        vertical-align: top;\n",
       "    }\n",
       "\n",
       "    .dataframe thead th {\n",
       "        text-align: right;\n",
       "    }\n",
       "</style>\n",
       "<table border=\"1\" class=\"dataframe\">\n",
       "  <thead>\n",
       "    <tr style=\"text-align: right;\">\n",
       "      <th></th>\n",
       "      <th>b</th>\n",
       "      <th>a</th>\n",
       "      <th>ph</th>\n",
       "    </tr>\n",
       "    <tr>\n",
       "      <th>gene_name</th>\n",
       "      <th></th>\n",
       "      <th></th>\n",
       "      <th></th>\n",
       "    </tr>\n",
       "  </thead>\n",
       "  <tbody>\n",
       "    <tr>\n",
       "      <td>anise</td>\n",
       "      <td>46.88</td>\n",
       "      <td>25.16</td>\n",
       "      <td>2.22</td>\n",
       "    </tr>\n",
       "    <tr>\n",
       "      <td>kiwi</td>\n",
       "      <td>44.16</td>\n",
       "      <td>28.43</td>\n",
       "      <td>15.94</td>\n",
       "    </tr>\n",
       "    <tr>\n",
       "      <td>carrot</td>\n",
       "      <td>39.65</td>\n",
       "      <td>23.14</td>\n",
       "      <td>3.90</td>\n",
       "    </tr>\n",
       "    <tr>\n",
       "      <td>grape</td>\n",
       "      <td>46.54</td>\n",
       "      <td>23.49</td>\n",
       "      <td>13.87</td>\n",
       "    </tr>\n",
       "    <tr>\n",
       "      <td>tangerine</td>\n",
       "      <td>42.67</td>\n",
       "      <td>24.29</td>\n",
       "      <td>9.70</td>\n",
       "    </tr>\n",
       "    <tr>\n",
       "      <td>melon</td>\n",
       "      <td>40.10</td>\n",
       "      <td>25.14</td>\n",
       "      <td>5.45</td>\n",
       "    </tr>\n",
       "    <tr>\n",
       "      <td>clementine</td>\n",
       "      <td>43.00</td>\n",
       "      <td>30.31</td>\n",
       "      <td>18.43</td>\n",
       "    </tr>\n",
       "    <tr>\n",
       "      <td>spinach</td>\n",
       "      <td>49.11</td>\n",
       "      <td>18.12</td>\n",
       "      <td>0.02</td>\n",
       "    </tr>\n",
       "    <tr>\n",
       "      <td>beet</td>\n",
       "      <td>43.52</td>\n",
       "      <td>21.33</td>\n",
       "      <td>11.86</td>\n",
       "    </tr>\n",
       "    <tr>\n",
       "      <td>huckleberry</td>\n",
       "      <td>48.02</td>\n",
       "      <td>25.45</td>\n",
       "      <td>21.83</td>\n",
       "    </tr>\n",
       "    <tr>\n",
       "      <td>lentil</td>\n",
       "      <td>42.85</td>\n",
       "      <td>22.07</td>\n",
       "      <td>7.68</td>\n",
       "    </tr>\n",
       "    <tr>\n",
       "      <td>cauliflower</td>\n",
       "      <td>40.86</td>\n",
       "      <td>25.99</td>\n",
       "      <td>20.02</td>\n",
       "    </tr>\n",
       "  </tbody>\n",
       "</table>\n",
       "</div>"
      ],
      "text/plain": [
       "                 b      a     ph\n",
       "gene_name                       \n",
       "anise        46.88  25.16   2.22\n",
       "kiwi         44.16  28.43  15.94\n",
       "carrot       39.65  23.14   3.90\n",
       "grape        46.54  23.49  13.87\n",
       "tangerine    42.67  24.29   9.70\n",
       "melon        40.10  25.14   5.45\n",
       "clementine   43.00  30.31  18.43\n",
       "spinach      49.11  18.12   0.02\n",
       "beet         43.52  21.33  11.86\n",
       "huckleberry  48.02  25.45  21.83\n",
       "lentil       42.85  22.07   7.68\n",
       "cauliflower  40.86  25.99  20.02"
      ]
     },
     "execution_count": 77,
     "metadata": {},
     "output_type": "execute_result"
    }
   ],
   "source": [
    "# create a dataframe with my predictions\n",
    "\n",
    "df_mydata = pd.DataFrame({'gene_name':(gene_name),\n",
    "                          'b':([item[0] for item in gene_lst]),\n",
    "                          'a':([item[1] for item in gene_lst]),\n",
    "                          'ph':([item[2] for item in gene_lst]),})\n",
    "df_mydata = df_mydata.set_index('gene_name')\n",
    "df_mydata = df_mydata.astype('float') # convert data to floats\n",
    "df_mydata"
   ]
  },
  {
   "cell_type": "markdown",
   "metadata": {},
   "source": [
    "#### 2. compare solutions\n",
    "Moriarty is incensed that you have a different solution. He offers to bet you on who's right. Compute the total log likelihood (summed over all 12 genes) for Moriarty's solution and yours. Which is more likely, and by how much?"
   ]
  },
  {
   "cell_type": "code",
   "execution_count": 78,
   "metadata": {},
   "outputs": [],
   "source": [
    "# read Moriarty's data\n",
    "\n",
    "mor = !python3 ./moriarty.py w07-data.txt\n",
    "\n",
    "mor = [w for s in mor[5:] for w in s.split()]"
   ]
  },
  {
   "cell_type": "code",
   "execution_count": 93,
   "metadata": {},
   "outputs": [
    {
     "data": {
      "text/html": [
       "<div>\n",
       "<style scoped>\n",
       "    .dataframe tbody tr th:only-of-type {\n",
       "        vertical-align: middle;\n",
       "    }\n",
       "\n",
       "    .dataframe tbody tr th {\n",
       "        vertical-align: top;\n",
       "    }\n",
       "\n",
       "    .dataframe thead th {\n",
       "        text-align: right;\n",
       "    }\n",
       "</style>\n",
       "<table border=\"1\" class=\"dataframe\">\n",
       "  <thead>\n",
       "    <tr style=\"text-align: right;\">\n",
       "      <th></th>\n",
       "      <th>b</th>\n",
       "      <th>a</th>\n",
       "      <th>p</th>\n",
       "    </tr>\n",
       "    <tr>\n",
       "      <th>gene</th>\n",
       "      <th></th>\n",
       "      <th></th>\n",
       "      <th></th>\n",
       "    </tr>\n",
       "  </thead>\n",
       "  <tbody>\n",
       "    <tr>\n",
       "      <td>anise</td>\n",
       "      <td>40.93</td>\n",
       "      <td>35.17</td>\n",
       "      <td>3.07</td>\n",
       "    </tr>\n",
       "    <tr>\n",
       "      <td>kiwi</td>\n",
       "      <td>43.20</td>\n",
       "      <td>23.97</td>\n",
       "      <td>16.27</td>\n",
       "    </tr>\n",
       "    <tr>\n",
       "      <td>carrot</td>\n",
       "      <td>40.59</td>\n",
       "      <td>17.89</td>\n",
       "      <td>2.71</td>\n",
       "    </tr>\n",
       "    <tr>\n",
       "      <td>grape</td>\n",
       "      <td>51.37</td>\n",
       "      <td>22.54</td>\n",
       "      <td>13.10</td>\n",
       "    </tr>\n",
       "    <tr>\n",
       "      <td>tangerine</td>\n",
       "      <td>39.15</td>\n",
       "      <td>28.42</td>\n",
       "      <td>7.89</td>\n",
       "    </tr>\n",
       "    <tr>\n",
       "      <td>melon</td>\n",
       "      <td>37.29</td>\n",
       "      <td>22.89</td>\n",
       "      <td>3.16</td>\n",
       "    </tr>\n",
       "    <tr>\n",
       "      <td>clementine</td>\n",
       "      <td>40.66</td>\n",
       "      <td>29.24</td>\n",
       "      <td>17.32</td>\n",
       "    </tr>\n",
       "    <tr>\n",
       "      <td>spinach</td>\n",
       "      <td>49.06</td>\n",
       "      <td>19.08</td>\n",
       "      <td>0.87</td>\n",
       "    </tr>\n",
       "    <tr>\n",
       "      <td>beet</td>\n",
       "      <td>44.21</td>\n",
       "      <td>26.08</td>\n",
       "      <td>11.84</td>\n",
       "    </tr>\n",
       "    <tr>\n",
       "      <td>huckleberry</td>\n",
       "      <td>46.09</td>\n",
       "      <td>23.42</td>\n",
       "      <td>23.47</td>\n",
       "    </tr>\n",
       "    <tr>\n",
       "      <td>lentil</td>\n",
       "      <td>44.49</td>\n",
       "      <td>18.91</td>\n",
       "      <td>9.14</td>\n",
       "    </tr>\n",
       "    <tr>\n",
       "      <td>cauliflower</td>\n",
       "      <td>40.44</td>\n",
       "      <td>23.67</td>\n",
       "      <td>21.64</td>\n",
       "    </tr>\n",
       "  </tbody>\n",
       "</table>\n",
       "</div>"
      ],
      "text/plain": [
       "                 b      a      p\n",
       "gene                            \n",
       "anise        40.93  35.17   3.07\n",
       "kiwi         43.20  23.97  16.27\n",
       "carrot       40.59  17.89   2.71\n",
       "grape        51.37  22.54  13.10\n",
       "tangerine    39.15  28.42   7.89\n",
       "melon        37.29  22.89   3.16\n",
       "clementine   40.66  29.24  17.32\n",
       "spinach      49.06  19.08   0.87\n",
       "beet         44.21  26.08  11.84\n",
       "huckleberry  46.09  23.42  23.47\n",
       "lentil       44.49  18.91   9.14\n",
       "cauliflower  40.44  23.67  21.64"
      ]
     },
     "execution_count": 93,
     "metadata": {},
     "output_type": "execute_result"
    }
   ],
   "source": [
    "# create a dataframe with Moriarty's data\n",
    "\n",
    "df_mor = pd.DataFrame({'gene':(mor[0:48:4]),'b':(mor[1:48:4]),\n",
    "                       'a':(mor[2:48:4]),'p':(mor[3:48:4]),} )\n",
    "df_mor = df_mor.set_index('gene')\n",
    "df_mor = df_mor.astype('float')\n",
    "df_mor"
   ]
  },
  {
   "cell_type": "code",
   "execution_count": 81,
   "metadata": {},
   "outputs": [],
   "source": [
    "# function to compute total log likelihood for the 12 genes\n",
    "# using the parameters estimated by Moriarty and by me\n",
    "# takes the predicted parameters(p), and the observations (y), and the sigmas (s)\n",
    "\n",
    "def ll(p, y, s):\n",
    "    ll = 0.\n",
    "    t = [4., 4., 8., 8., 16., 16., 24., 24.] # the different hours of each experiment\n",
    "    for i in range(len(y)):\n",
    "        # using the linear regression function yt=b+acos(2πωϕ)sin(2πωt)+asin(2πωϕ)cos(2πωt)\n",
    "        # b = p[0], a =p[1], ϕ = p[2]\n",
    "        ypred = (p[0] + p[1]*np.cos(2*math.pi*(p[2]/24))*np.sin(2*math.pi*(t[i])/24)\n",
    "                 + p[1]*np.sin(2*math.pi*(p[2]/24))*np.cos(2*math.pi*(t[i])/24))\n",
    "        residual = ypred - y[i]\n",
    "        ll += stats.norm.logpdf(residual, 0, s[i]) \n",
    "    return (ll)"
   ]
  },
  {
   "cell_type": "code",
   "execution_count": 82,
   "metadata": {},
   "outputs": [
    {
     "name": "stdout",
     "output_type": "stream",
     "text": [
      "-310.54753761990776\n"
     ]
    }
   ],
   "source": [
    "# loop over my predictions and calculate total ll\n",
    "\n",
    "my_tll = []\n",
    "for i in range(len(genes)):\n",
    "    score = ll(df_mydata.values[i], genes[i], sigma)\n",
    "    my_tll.append(score)\n",
    "print(sum(my_tll))"
   ]
  },
  {
   "cell_type": "code",
   "execution_count": 83,
   "metadata": {},
   "outputs": [
    {
     "name": "stdout",
     "output_type": "stream",
     "text": [
      "-455.25382389822033\n"
     ]
    }
   ],
   "source": [
    "# loop over Moriarty's predictions and calculate total ll\n",
    "\n",
    "m_tll = []\n",
    "for i in range(len(genes)):\n",
    "    score = ll(df_mor.values[i], genes[i], sigma)\n",
    "    m_tll.append(score)\n",
    "print(sum(m_tll))"
   ]
  },
  {
   "cell_type": "code",
   "execution_count": 84,
   "metadata": {},
   "outputs": [
    {
     "data": {
      "text/plain": [
       "0.6821415248328279"
      ]
     },
     "execution_count": 84,
     "metadata": {},
     "output_type": "execute_result"
    }
   ],
   "source": [
    "LR = (sum(my_tll)/len(genes))/(sum(m_tll)/len(genes))\n",
    "LR"
   ]
  },
  {
   "cell_type": "markdown",
   "metadata": {},
   "source": [
    "##### My score is higher than Moriarty's. Since we are calculating maximum likelihood, my solution is better compared to Moriarty's by a ratio of 0.68."
   ]
  },
  {
   "cell_type": "markdown",
   "metadata": {},
   "source": [
    "#### 3. plot the fits\n",
    "For each of the 12 genes, plot the observed data and the two fits (so you can show Moriarty how he went wrong)."
   ]
  },
  {
   "cell_type": "code",
   "execution_count": 85,
   "metadata": {},
   "outputs": [],
   "source": [
    "# create arrays with mine and Moriarty's predicted a, b, ph values\n",
    "\n",
    "my_param =  df_mydata.values\n",
    "mor_param = df_mor.values"
   ]
  },
  {
   "cell_type": "code",
   "execution_count": 86,
   "metadata": {},
   "outputs": [
    {
     "name": "stdout",
     "output_type": "stream",
     "text": [
      "[['72.00', '72.00', '58.18', '58.18', '21.76', '21.76', '60.69', '60.69'], ['19.32', '19.32', '43.71', '43.71', '69.00', '69.00', '19.77', '19.77'], ['59.99', '59.99', '40.26', '40.26', '19.31', '19.31', '59.38', '59.38'], ['23.06', '23.06', '34.11', '34.11', '70.02', '70.02', '35.49', '35.49'], ['32.21', '32.21', '18.45', '18.45', '53.13', '53.13', '56.43', '56.43'], ['55.66', '55.66', '30.78', '30.78', '24.54', '24.54', '64.98', '64.98'], ['30.89', '30.89', '61.01', '61.01', '55.11', '55.11', '12.88', '12.88'], ['64.85', '64.85', '64.75', '64.75', '33.37', '33.37', '49.20', '49.20'], ['25.45', '25.45', '24.67', '24.67', '61.59', '61.59', '44.30', '44.30'], ['59.75', '59.75', '73.44', '73.44', '36.29', '36.29', '34.33', '34.33'], ['44.70', '44.70', '24.73', '24.73', '41.00', '41.00', '62.82', '62.82'], ['41.00', '41.00', '63.44', '63.44', '40.72', '40.72', '18.42', '18.42']]\n"
     ]
    }
   ],
   "source": [
    "# loop over each gene in my predicted parameters\n",
    "# return expression (TPM) predictions for each experiment\n",
    "\n",
    "t = [4., 4., 8., 8., 16., 16., 24., 24.] # hours of each experiment\n",
    "\n",
    "my_pred = [] # store my predictions \n",
    "\n",
    "for i in range(len(my_param)):\n",
    "    # use the linear regression function yt=b+acos(2πωϕ)sin(2πωt)+asin(2πωϕ)cos(2πωt)\n",
    "    yt = [(my_param[i][0]+ \n",
    "           my_param[i][1]*np.cos(2*math.pi*(my_param[i][2]/24))*np.sin(2*math.pi*(t[j])/24)+\n",
    "           my_param[i][1]*np.sin(2*math.pi*(my_param[i][2]/24))*np.cos(2*math.pi*(t[j])/24))\n",
    "                  for j in range(len(t))] \n",
    "    yt = [ '%.2f' % elem for elem in yt ]\n",
    "    my_pred.append(yt)\n",
    "print(my_pred) "
   ]
  },
  {
   "cell_type": "code",
   "execution_count": 87,
   "metadata": {},
   "outputs": [
    {
     "data": {
      "text/plain": [
       "array([[72.  , 72.  , 58.18, 58.18, 21.76, 21.76, 60.69, 60.69],\n",
       "       [19.32, 19.32, 43.71, 43.71, 69.  , 69.  , 19.77, 19.77],\n",
       "       [59.99, 59.99, 40.26, 40.26, 19.31, 19.31, 59.38, 59.38],\n",
       "       [23.06, 23.06, 34.11, 34.11, 70.02, 70.02, 35.49, 35.49],\n",
       "       [32.21, 32.21, 18.45, 18.45, 53.13, 53.13, 56.43, 56.43],\n",
       "       [55.66, 55.66, 30.78, 30.78, 24.54, 24.54, 64.98, 64.98],\n",
       "       [30.89, 30.89, 61.01, 61.01, 55.11, 55.11, 12.88, 12.88],\n",
       "       [64.85, 64.85, 64.75, 64.75, 33.37, 33.37, 49.2 , 49.2 ],\n",
       "       [25.45, 25.45, 24.67, 24.67, 61.59, 61.59, 44.3 , 44.3 ],\n",
       "       [59.75, 59.75, 73.44, 73.44, 36.29, 36.29, 34.33, 34.33],\n",
       "       [44.7 , 44.7 , 24.73, 24.73, 41.  , 41.  , 62.82, 62.82],\n",
       "       [41.  , 41.  , 63.44, 63.44, 40.72, 40.72, 18.42, 18.42]])"
      ]
     },
     "execution_count": 87,
     "metadata": {},
     "output_type": "execute_result"
    }
   ],
   "source": [
    "# convert my predictions into floats\n",
    "\n",
    "my_pred = np.array(my_pred)\n",
    "my_pred = my_pred.astype(float)\n",
    "my_pred"
   ]
  },
  {
   "cell_type": "code",
   "execution_count": 88,
   "metadata": {},
   "outputs": [
    {
     "name": "stdout",
     "output_type": "stream",
     "text": [
      "[['74.73', '74.73', '49.41', '49.41', '7.13', '7.13', '66.25', '66.25'], ['23.34', '23.34', '44.89', '44.89', '63.06', '63.06', '21.65', '21.65'], ['58.17', '58.17', '46.52', '46.52', '23.01', '23.01', '52.24', '52.24'], ['29.45', '29.45', '35.85', '35.85', '73.29', '73.29', '44.97', '44.97'], ['39.97', '39.97', '14.96', '14.96', '38.33', '38.33', '64.16', '64.16'], ['59.13', '59.13', '42.28', '42.28', '15.45', '15.45', '54.14', '54.14'], ['21.79', '21.79', '50.56', '50.56', '59.53', '59.53', '11.88', '11.88'], ['67.31', '67.31', '63.00', '63.00', '30.81', '30.81', '53.37', '53.37'], ['22.19', '22.19', '21.10', '21.10', '66.23', '66.23', '45.30', '45.30'], ['64.56', '64.56', '67.80', '67.80', '27.62', '27.62', '42.85', '42.85'], ['38.93', '38.93', '26.06', '26.06', '50.05', '50.05', '57.36', '57.36'], ['50.29', '50.29', '64.00', '64.00', '30.59', '30.59', '26.73', '26.73']]\n"
     ]
    }
   ],
   "source": [
    "# loop over each gene in Moriarty's predicted parameters\n",
    "# return expression (TPM) predictions for each experiment\n",
    "\n",
    "t = [4., 4., 8., 8., 16., 16., 24., 24.] # hours of each experiment\n",
    "\n",
    "mor_pred = [] # store Moriarty's predictions\n",
    "\n",
    "for i in range(len(mor_param)):\n",
    "    # use the linear regression function yt=b+acos(2πωϕ)sin(2πωt)+asin(2πωϕ)cos(2πωt)\n",
    "    yt = [(mor_param[i][0]+ \n",
    "           mor_param[i][1]*np.cos(2*math.pi*(mor_param[i][2]/24))*np.sin(2*math.pi*(t[j])/24)+\n",
    "           mor_param[i][1]*np.sin(2*math.pi*(mor_param[i][2]/24))*np.cos(2*math.pi*(t[j])/24))\n",
    "                  for j in range(len(t))] \n",
    "    yt = [ '%.2f' % elem for elem in yt ]\n",
    "    mor_pred.append(yt)\n",
    "print(mor_pred)   "
   ]
  },
  {
   "cell_type": "code",
   "execution_count": 89,
   "metadata": {},
   "outputs": [
    {
     "data": {
      "text/plain": [
       "array([[74.73, 74.73, 49.41, 49.41,  7.13,  7.13, 66.25, 66.25],\n",
       "       [23.34, 23.34, 44.89, 44.89, 63.06, 63.06, 21.65, 21.65],\n",
       "       [58.17, 58.17, 46.52, 46.52, 23.01, 23.01, 52.24, 52.24],\n",
       "       [29.45, 29.45, 35.85, 35.85, 73.29, 73.29, 44.97, 44.97],\n",
       "       [39.97, 39.97, 14.96, 14.96, 38.33, 38.33, 64.16, 64.16],\n",
       "       [59.13, 59.13, 42.28, 42.28, 15.45, 15.45, 54.14, 54.14],\n",
       "       [21.79, 21.79, 50.56, 50.56, 59.53, 59.53, 11.88, 11.88],\n",
       "       [67.31, 67.31, 63.  , 63.  , 30.81, 30.81, 53.37, 53.37],\n",
       "       [22.19, 22.19, 21.1 , 21.1 , 66.23, 66.23, 45.3 , 45.3 ],\n",
       "       [64.56, 64.56, 67.8 , 67.8 , 27.62, 27.62, 42.85, 42.85],\n",
       "       [38.93, 38.93, 26.06, 26.06, 50.05, 50.05, 57.36, 57.36],\n",
       "       [50.29, 50.29, 64.  , 64.  , 30.59, 30.59, 26.73, 26.73]])"
      ]
     },
     "execution_count": 89,
     "metadata": {},
     "output_type": "execute_result"
    }
   ],
   "source": [
    "# convert Moriarty's predictions into floats\n",
    "\n",
    "mor_pred = np.array(mor_pred)\n",
    "mor_pred = mor_pred.astype(float)\n",
    "mor_pred"
   ]
  },
  {
   "cell_type": "code",
   "execution_count": 141,
   "metadata": {},
   "outputs": [
    {
     "data": {
      "image/png": "[encoded data removed]",
      "text/plain": [
       "<Figure size 864x864 with 12 Axes>"
      ]
     },
     "metadata": {
      "needs_background": "light"
     },
     "output_type": "display_data"
    }
   ],
   "source": [
    "# graph the original observations against times adding the predictions of both methods\n",
    "# log likelihood method = LL, least square method (Moriarty's) = LS\n",
    "\n",
    "r_patch = mpatches.Patch(color='red', label='LL')\n",
    "g_patch = mpatches.Patch(color='green', label='LS')\n",
    "\n",
    "x =np.array([4., 4., 8., 8., 16., 16., 24., 24.], None) # times of each experiment\n",
    "\n",
    "y0 = genes # observations\n",
    "\n",
    "y1 = my_pred # LL method predictions \n",
    "\n",
    "y2 = mor_pred # LS method predictions\n",
    "\n",
    "f, axarr = plt.subplots(4, 3, figsize=(12,12))\n",
    "plt.subplots_adjust(hspace = .5, wspace=.5)\n",
    "\n",
    "axarr[0, 0].plot(x,y0[0],'o')\n",
    "axarr[0, 0].plot(x,y1[0],'-', color='r')\n",
    "axarr[0, 0].plot(x,y2[0],'-', color='g')\n",
    "axarr[0, 0].set_title(gene_name[0])\n",
    "\n",
    "axarr[0, 1].plot(x,y0[1],'o')\n",
    "axarr[0, 1].plot(x,y1[1],'-', color='r')\n",
    "axarr[0, 1].plot(x,y2[1],'-', color='g')\n",
    "axarr[0, 1].set_title(gene_name[1])\n",
    "\n",
    "axarr[0, 2].plot(x,y0[2],'o')\n",
    "axarr[0, 2].plot(x,y1[2],'-', color='r')\n",
    "axarr[0, 2].plot(x,y2[2],'-', color='g')\n",
    "axarr[0, 2].set_title(gene_name[2])\n",
    "\n",
    "axarr[1, 0].plot(x,y0[3],'o')\n",
    "axarr[1, 0].plot(x,y1[3],'-', color='r')\n",
    "axarr[1, 0].plot(x,y2[3],'-', color='g')\n",
    "axarr[1, 0].set_title(gene_name[3])\n",
    "\n",
    "axarr[1, 1].plot(x,y0[4],'o')\n",
    "axarr[1, 1].plot(x,y1[4],'-', color='r')\n",
    "axarr[1, 1].plot(x,y2[4],'-', color='g')\n",
    "axarr[1, 1].set_title(gene_name[4])\n",
    "\n",
    "axarr[1, 2].plot(x,y0[5],'o')\n",
    "axarr[1, 2].plot(x,y1[5],'-', color='r')\n",
    "axarr[1, 2].plot(x,y2[5],'-', color='g')\n",
    "axarr[1, 2].set_title(gene_name[5])\n",
    "\n",
    "axarr[2, 0].plot(x,y0[6],'o')\n",
    "axarr[2, 0].plot(x,y1[6],'-', color='r')\n",
    "axarr[2, 0].plot(x,y2[6],'-', color='g')\n",
    "axarr[2, 0].set_title(gene_name[6])\n",
    "\n",
    "axarr[2, 1].plot(x,y0[7],'o')\n",
    "axarr[2, 1].plot(x,y1[7],'-', color='r')\n",
    "axarr[2, 1].plot(x,y2[7],'-', color='g')\n",
    "axarr[2, 1].set_title(gene_name[7])\n",
    "\n",
    "axarr[2, 2].plot(x,y0[8],'o')\n",
    "axarr[2, 2].plot(x,y1[8],'-', color='r')\n",
    "axarr[2, 2].plot(x,y2[8],'-', color='g')\n",
    "axarr[2, 2].set_title(gene_name[8])\n",
    "\n",
    "axarr[3, 0].plot(x,y0[9],'o')\n",
    "axarr[3, 0].plot(x,y1[9],'-', color='r')\n",
    "axarr[3, 0].plot(x,y2[9],'-', color='g')\n",
    "axarr[3, 0].set_title(gene_name[9])\n",
    "\n",
    "axarr[3, 1].plot(x,y0[10],'o')\n",
    "axarr[3, 1].plot(x,y1[10],'-', color='r')\n",
    "axarr[3, 1].plot(x,y2[10],'-', color='g')\n",
    "axarr[3, 1].set_title(gene_name[10])\n",
    "\n",
    "axarr[3, 2].plot(x,y0[11],'o')\n",
    "axarr[3, 2].plot(x,y1[11],'-', color='r')\n",
    "axarr[3, 2].plot(x,y2[11],'-', color='g')\n",
    "axarr[3, 2].set_title(gene_name[11])\n",
    "    \n",
    "for ax in axarr.flat:\n",
    "    ax.set(xlabel='time(hours)', ylabel='expression (TPM)')\n",
    "    ax.legend(handles=[r_patch, g_patch])\n"
   ]
  },
  {
   "cell_type": "markdown",
   "metadata": {},
   "source": [
    "##### As we can see from the plots, the log likelihood method is a better fit compared to the least squares method. This becomes more obvious when there is a large deviation between results of the same experiments. For example, if we look at melon, the 8hr experiment resulted in two very different observations depending on the sigma values (+-5 and +-20). The log likelihood method result fits the observation of the most accurate experiment (the one with +-5 sigma), while Moriarty's result is between the two observations.<br>Basically, the maximum likelihood method works better in this case because it determines which parameters are most like to produce the observed data taking into consideration which observations are more accurate in terms of standard error. On the other hand, the least squares method is averaging the differences by minmizing the sum of stanfard error, so it appears that the predictions from this method are average calculations between the accurate and inaccurate experiments."
   ]
  },
  {
   "cell_type": "code",
   "execution_count": null,
   "metadata": {},
   "outputs": [],
   "source": []
  }
 ],
 "metadata": {
  "kernelspec": {
   "display_name": "Python 3",
   "language": "python",
   "name": "python3"
  },
  "language_info": {
   "codemirror_mode": {
    "name": "ipython",
    "version": 3
   },
   "file_extension": ".py",
   "mimetype": "text/x-python",
   "name": "python",
   "nbconvert_exporter": "python",
   "pygments_lexer": "ipython3",
   "version": "3.7.4"
  }
 },
 "nbformat": 4,
 "nbformat_minor": 2
}
